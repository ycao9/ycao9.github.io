{
 "cells": [
  {
   "cell_type": "code",
   "execution_count": 81,
   "metadata": {},
   "outputs": [
    {
     "data": {
      "text/plain": [
       "10.582010582010582"
      ]
     },
     "execution_count": 81,
     "metadata": {},
     "output_type": "execute_result"
    }
   ],
   "source": [
    "import csv \n",
    "import json\n",
    "import pandas as pd\n",
    "file = './data.json'\n",
    "\n",
    "with open(file) as f:\n",
    "    data = json.load(f)\n",
    "\n",
    "data = pd.DataFrame(list(data))\n",
    "data['weapons_obtained_legally'].unique()\n",
    "data['prior_signs_mental_health_issues'] = data['prior_signs_mental_health_issues'].replace('Unclear', 'unknown')\n",
    "data['prior_signs_mental_health_issues'] = data['prior_signs_mental_health_issues'].replace('Unclear ', 'unknown')\n",
    "data['prior_signs_mental_health_issues'] = data['prior_signs_mental_health_issues'].replace('Unknown', 'unknown')\n",
    "data['prior_signs_mental_health_issues'] = data['prior_signs_mental_health_issues'].replace('TBD', 'unknown')\n",
    "\n",
    "data['prior_signs_mental_health_issues'].unique()\n",
    "data['prior_signs_mental_health_issues'] = data['prior_signs_mental_health_issues'].replace('Yes','yes') \n",
    "\n",
    "unknown = sum(data['prior_signs_mental_health_issues'] == 'unknown')\n",
    "yes1 = sum(data['prior_signs_mental_health_issues'] == 'yes')\n",
    "\n",
    "unknown/len(data['prior_signs_mental_health_issues']) *100\n",
    "data['prior_signs_mental_health_issues'].unique()\n",
    "mf = sum(data['gender'] == 'Male & Female')\n",
    "m = sum(data['gender'] == 'Male')\n",
    "f = sum(data['gender'] == 'Female')\n",
    "total = m + (mf*2) + f\n",
    "(m+2)/total * 100\n",
    "\n",
    "wl = data['weapons_obtained_legally']\n",
    "data['weapons_obtained_legally'] = data['weapons_obtained_legally'].replace('Unknown','unknown')\n",
    "\n",
    "\n",
    "un = sum(wl == 'unknown')\n",
    "yes = sum(wl == 'Yes')\n",
    "no = sum(wl == 'No')\n",
    "total3 = yes + no + un\n",
    "un/total3*100"
   ]
  },
  {
   "cell_type": "code",
   "execution_count": 71,
   "metadata": {},
   "outputs": [
    {
     "data": {
      "text/plain": [
       "57.14285714285714"
      ]
     },
     "execution_count": 71,
     "metadata": {},
     "output_type": "execute_result"
    }
   ],
   "source": [
    "unknown = sum(data['prior_signs_mental_health_issues'] == 'unknown')\n",
    "yes1 = sum(data['prior_signs_mental_health_issues'] == 'yes')\n",
    "no1 = sum(data['prior_signs_mental_health_issues'] == 'No')\n",
    "total1 = yes1+ unknown + no1\n",
    "yes1/total1 * 100 "
   ]
  },
  {
   "cell_type": "code",
   "execution_count": null,
   "metadata": {},
   "outputs": [],
   "source": [
    "with open(file) as f:\n",
    "    x = json.load(f)\n",
    "\n",
    "data2 = pd.DataFrame(list(x))"
   ]
  },
  {
   "cell_type": "code",
   "execution_count": 88,
   "metadata": {},
   "outputs": [
    {
     "data": {
      "text/plain": [
       "12.698412698412698"
      ]
     },
     "execution_count": 88,
     "metadata": {},
     "output_type": "execute_result"
    }
   ],
   "source": [
    "[x.split(',') for x in data['age_of_shooter']]\n",
    "x47 = 1 \n",
    "x50 = 1\n",
    "data['age_of_shooter'] = data['age_of_shooter'].replace('47 , 50', '47')\n",
    "sum([(int(x) >= 13 and int(x) <= 25) for x in data['age_of_shooter']])\n",
    "range13to25 = sum([(int(x) >= 13 and int(x) <= 25) for x in data['age_of_shooter']]);\n",
    "range26to30 = sum([( int(x)>= 26 and int(x) <= 30) for x in data['age_of_shooter']]);\n",
    "range31to39 = sum([(int(x) >= 31 and int(x) <= 39) for x in data['age_of_shooter']]);\n",
    "range40to49 = sum([(int(x) >= 40 and int(x) <= 49) for x in data['age_of_shooter']]);\n",
    "range50plus = sum([(int(x) >= 50) for x in data['age_of_shooter']])+1;\n",
    "total = range13to25 + range26to30 + range31to39 + range40to49 + range50plus \n",
    "range26to30/total * 100"
   ]
  },
  {
   "cell_type": "code",
   "execution_count": null,
   "metadata": {},
   "outputs": [],
   "source": [
    "def buildRow(header, row):\n",
    "    rowMap = {}\n",
    "    for h,r in zip(header, row):\n",
    "        rowMap[h] = r\n",
    "    return rowMap\n",
    "\n",
    "with open('cmj.csv', encoding='utf-8-sig') as csv_file:\n",
    "    csv_reader = csv.reader(csv_file, delimiter=',')\n",
    "    line_count = 0\n",
    "    header = []\n",
    "    yeet = []\n",
    "    for row in csv_reader:\n",
    "        if line_count == 0:\n",
    "            header = row\n",
    "            line_count += 1\n",
    "        else:\n",
    "            yeet.append(buildRow(header, row))\n",
    "            line_count += 1\n",
    "    print(f'Processed {line_count} lines.')\n",
    "json_string = json.dumps(yeet)\n",
    "print(json_string)"
   ]
  }
 ],
 "metadata": {
  "kernelspec": {
   "display_name": "Python 3",
   "language": "python",
   "name": "python3"
  },
  "language_info": {
   "codemirror_mode": {
    "name": "ipython",
    "version": 3
   },
   "file_extension": ".py",
   "mimetype": "text/x-python",
   "name": "python",
   "nbconvert_exporter": "python",
   "pygments_lexer": "ipython3",
   "version": "3.8.1"
  }
 },
 "nbformat": 4,
 "nbformat_minor": 2
}
